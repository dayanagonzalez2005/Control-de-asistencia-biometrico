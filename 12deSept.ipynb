{
  "nbformat": 4,
  "nbformat_minor": 0,
  "metadata": {
    "colab": {
      "provenance": [],
      "authorship_tag": "ABX9TyP1GnGAf5b5ZV0E04Z4xvl5",
      "include_colab_link": true
    },
    "kernelspec": {
      "name": "python3",
      "display_name": "Python 3"
    },
    "language_info": {
      "name": "python"
    }
  },
  "cells": [
    {
      "cell_type": "markdown",
      "metadata": {
        "id": "view-in-github",
        "colab_type": "text"
      },
      "source": [
        "<a href=\"https://colab.research.google.com/github/dayanagonzalez2005/Control-de-asistencia-biometrico/blob/master/12deSept.ipynb\" target=\"_parent\"><img src=\"https://colab.research.google.com/assets/colab-badge.svg\" alt=\"Open In Colab\"/></a>"
      ]
    },
    {
      "cell_type": "markdown",
      "source": [
        "Operador ternario"
      ],
      "metadata": {
        "id": "KjOBy5YyxdnO"
      }
    },
    {
      "cell_type": "code",
      "execution_count": null,
      "metadata": {
        "colab": {
          "base_uri": "https://localhost:8080/"
        },
        "id": "gyFUytyzxaZG",
        "outputId": "bc76f843-1458-407c-a771-8848b40f6b48"
      },
      "outputs": [
        {
          "output_type": "stream",
          "name": "stdout",
          "text": [
            "Resultado:  Es barato\n",
            "El resultado es:  0.0\n"
          ]
        }
      ],
      "source": [
        "es_barato = True\n",
        "estado=\"\"\n",
        "estado = \"Es barato\" if es_barato else \"No es barato\"\n",
        "print(\"Resultado: \", estado)\n",
        "\n",
        "a,b,resultado=0,10,\"\"\n",
        "resultado= a/b if b!=0 else \"División invalida\"\n",
        "print(\"El resultado es: \", resultado)\n"
      ]
    },
    {
      "cell_type": "code",
      "source": [
        "\"\"\"Algoritmo que solicita un nombre al usuario y luego\n",
        "cuenta y clasifica cuantas vocales tiene y las agrega a un diccionario\n",
        "de vocales, por ultimo las imprime verticalmente\"\"\"\n",
        "\n",
        "\n",
        "\n",
        "\n",
        "\n",
        "\n",
        "\n"
      ],
      "metadata": {
        "id": "9B75Q50rYIYc"
      },
      "execution_count": null,
      "outputs": []
    },
    {
      "cell_type": "code",
      "source": [
        "#FUNCION QUE ORDENA LA UN DICCIONARIO\n",
        "def ordenamiento():\n",
        "    return\n"
      ],
      "metadata": {
        "colab": {
          "base_uri": "https://localhost:8080/",
          "height": 245
        },
        "id": "Z3m-UqLpxdR3",
        "outputId": "b0e29e43-1177-44a6-d0fb-baae67988ad8"
      },
      "execution_count": null,
      "outputs": [
        {
          "output_type": "stream",
          "name": "stdout",
          "text": [
            "2\n"
          ]
        },
        {
          "output_type": "error",
          "ename": "ZeroDivisionError",
          "evalue": "ignored",
          "traceback": [
            "\u001b[0;31m---------------------------------------------------------------------------\u001b[0m",
            "\u001b[0;31mZeroDivisionError\u001b[0m                         Traceback (most recent call last)",
            "\u001b[0;32m<ipython-input-4-62ad367111d1>\u001b[0m in \u001b[0;36m<cell line: 5>\u001b[0;34m()\u001b[0m\n\u001b[1;32m      3\u001b[0m \u001b[0;31m#Salida is 2\u001b[0m\u001b[0;34m\u001b[0m\u001b[0;34m\u001b[0m\u001b[0m\n\u001b[1;32m      4\u001b[0m \u001b[0;34m\u001b[0m\u001b[0m\n\u001b[0;32m----> 5\u001b[0;31m \u001b[0mprint\u001b[0m\u001b[0;34m(\u001b[0m\u001b[0;34m(\u001b[0m\u001b[0;36m1\u001b[0m\u001b[0;34m/\u001b[0m\u001b[0;36m0\u001b[0m\u001b[0;34m,\u001b[0m \u001b[0;36m2\u001b[0m\u001b[0;34m)\u001b[0m\u001b[0;34m[\u001b[0m\u001b[0mcondicion\u001b[0m\u001b[0;34m]\u001b[0m\u001b[0;34m)\u001b[0m\u001b[0;34m\u001b[0m\u001b[0;34m\u001b[0m\u001b[0m\n\u001b[0m\u001b[1;32m      6\u001b[0m \u001b[0;31m#Se lanza ZeroDivisionError\u001b[0m\u001b[0;34m\u001b[0m\u001b[0;34m\u001b[0m\u001b[0m\n",
            "\u001b[0;31mZeroDivisionError\u001b[0m: division by zero"
          ]
        }
      ]
    },
    {
      "cell_type": "code",
      "source": [
        "#función para ordenar alfabeteicamente un diccionario\n",
        "import operator # para organizar diccionario\n",
        "dicc_menores={}\n",
        "dicc_mayores={}\n",
        "dicc_aprendices= {'johau': 25, 'luis':23, 'juand':15, 'melissa': 18, 'david':12, 'jose':25}\n",
        "diccOrdenado = dict(sorted(dicc_aprendices.items(), key=operator.itemgetter(0)))\n",
        "for i,j in diccOrdenado.items():\n",
        "    #print(f\"Aprendiz {i}, tiene {j} años.\")\n",
        "    dicc_menores[i]=j\n",
        "    dicc_mayores[i]=j\n",
        "    print(dicc_mayores) if j>18 else print(dicc_menores)\n",
        "         # no confundir con lista\n",
        "\n",
        "\n",
        "\n",
        "\n"
      ],
      "metadata": {
        "colab": {
          "base_uri": "https://localhost:8080/"
        },
        "id": "ybpGPXcMBXQA",
        "outputId": "652981a6-764a-4958-c5bb-984759d8e0ba"
      },
      "execution_count": null,
      "outputs": [
        {
          "output_type": "stream",
          "name": "stdout",
          "text": [
            "{'david': 12}\n",
            "{'david': 12, 'johau': 25}\n",
            "{'david': 12, 'johau': 25, 'jose': 25}\n",
            "{'david': 12, 'johau': 25, 'jose': 25, 'juand': 15}\n",
            "{'david': 12, 'johau': 25, 'jose': 25, 'juand': 15, 'luis': 23}\n",
            "{'david': 12, 'johau': 25, 'jose': 25, 'juand': 15, 'luis': 23, 'melissa': 18}\n"
          ]
        }
      ]
    },
    {
      "cell_type": "code",
      "source": [
        "#operador ternario if\n",
        "#ejemplo 1\n",
        "x,y=15,15\n",
        "mayor=x if x>y else y\n",
        "print(\"El mayor es: \", mayor)\n",
        "\n",
        "#ejemplo 2\n"
      ],
      "metadata": {
        "colab": {
          "base_uri": "https://localhost:8080/"
        },
        "id": "JHJU7nohOyxJ",
        "outputId": "36a18995-76b0-4ece-d2d6-5289083ca44b"
      },
      "execution_count": null,
      "outputs": [
        {
          "output_type": "stream",
          "name": "stdout",
          "text": [
            "El mayor es:  15\n"
          ]
        }
      ]
    },
    {
      "cell_type": "code",
      "source": [
        "edadesPE= {'johau': 25, 'luis':23, 'juand':15, 'melissa': 18, 'david':12, 'jose':25}\n",
        "ordenar = sorted(edadesPE.keys())\n",
        "for personas in ordenar:\n",
        "    edad= edadesPE[personas]\n",
        "    if edad <= 17:\n",
        "        print(\"menor de edad\")\n",
        "        print(f\"la edad de {personas} es {edad}\")\n",
        "    else:\n",
        "        print(\"mayor de edad\")\n",
        "        print(f\"la edad de {personas} es {edad}\")"
      ],
      "metadata": {
        "colab": {
          "base_uri": "https://localhost:8080/"
        },
        "id": "HR5jDQls_N58",
        "outputId": "ab434ef9-d145-4d94-d742-cf9dcf56cd24"
      },
      "execution_count": null,
      "outputs": [
        {
          "output_type": "stream",
          "name": "stdout",
          "text": [
            "menor de edad\n",
            "la edad de david es 12\n",
            "mayor de edad\n",
            "la edad de johau es 25\n",
            "mayor de edad\n",
            "la edad de jose es 25\n",
            "menor de edad\n",
            "la edad de juand es 15\n",
            "mayor de edad\n",
            "la edad de luis es 23\n",
            "mayor de edad\n",
            "la edad de melissa es 18\n"
          ]
        }
      ]
    }
  ]
}